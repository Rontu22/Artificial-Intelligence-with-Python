{
  "nbformat": 4,
  "nbformat_minor": 0,
  "metadata": {
    "colab": {
      "name": "sna_ex_5.ipynb",
      "provenance": [],
      "collapsed_sections": [],
      "toc_visible": true,
      "include_colab_link": true
    },
    "kernelspec": {
      "name": "python3",
      "display_name": "Python 3"
    },
    "language_info": {
      "name": "python"
    }
  },
  "cells": [
    {
      "cell_type": "markdown",
      "metadata": {
        "id": "view-in-github",
        "colab_type": "text"
      },
      "source": [
        "<a href=\"https://colab.research.google.com/github/Rontu22/Artificial-Intelligence-with-Python/blob/master/sna_ex_5.ipynb\" target=\"_parent\"><img src=\"https://colab.research.google.com/assets/colab-badge.svg\" alt=\"Open In Colab\"/></a>"
      ]
    },
    {
      "cell_type": "markdown",
      "metadata": {
        "id": "f5_hrvJ059_Q"
      },
      "source": [
        "# Experiment 5 :"
      ]
    },
    {
      "cell_type": "markdown",
      "metadata": {
        "id": "LoxwvyZD6F85"
      },
      "source": [
        "## Import Libraries"
      ]
    },
    {
      "cell_type": "code",
      "metadata": {
        "id": "7rcfL_15R8j-"
      },
      "source": [
        "import matplotlib.pyplot as plt\n",
        "import pandas as pd\n",
        "import numpy as np\n",
        "from community import community_louvain\n",
        "import matplotlib.cm as cm\n",
        "import matplotlib.pyplot as plt\n",
        "import networkx as nx\n",
        "import math\n",
        "import collections\n",
        "from csv import reader"
      ],
      "execution_count": null,
      "outputs": []
    },
    {
      "cell_type": "markdown",
      "metadata": {
        "id": "UGjw4FGd7Tuv"
      },
      "source": [
        "# Form the graph"
      ]
    },
    {
      "cell_type": "code",
      "metadata": {
        "id": "wPP5zH3j6PDh",
        "colab": {
          "base_uri": "https://localhost:8080/",
          "height": 285
        },
        "outputId": "8319ba1b-8e9f-482b-d0b9-e59bd3ae84b5"
      },
      "source": [
        "G = nx.karate_club_graph()   ## THIS GRAPH IS GOING TO BE EVALUATED\n",
        "# G_Karate = nx.karate_club_graph()\n",
        "G_CSV_GRAPHS = nx.karate_club_graph() ## USING THIS AS PLACEHOLDER FOR GRAPH\n",
        "file = 'dolphin.csv'\n",
        "nodes = []\n",
        "edge_list = []\n",
        "with open(file, 'r') as read_obj:\n",
        "    csv_reader = reader(read_obj)\n",
        "    count = 0                              ##If csv file has first row Source Destination use count to ignore it \n",
        "    for row in csv_reader:\n",
        "        if count != 0:\n",
        "            u, v = row\n",
        "            u = int(u) \n",
        "            v = int(v)\n",
        "            edge_list.append((int(u),int(v)))   ## or use     edge_list.append((int(u)-1,int(v)-1))\n",
        "        count += 1\n",
        "\n",
        "# FORM THE GRAPH\n",
        "# G.add_edges_from(edge_list)\n",
        "\n",
        "# TAKE THE REQUIRED GRAPH\n",
        "# G = G_CSV_GRAPHS\n",
        "\n",
        "\n",
        "#Louvain Partition\n",
        "partition = community_louvain.best_partition(G)\n",
        "print(partition)\n",
        "# draw the graph\n",
        "pos = nx.spring_layout(G)\n",
        "# color the nodes according to their partition\n",
        "cmap = cm.get_cmap('viridis', max(partition.values()) + 1)\n",
        "nx.draw_networkx_nodes(G, pos, partition.keys(), node_size=40,\n",
        "                       cmap=cmap, node_color=list(partition.values()))\n",
        "# nx.draw_networkx_edges(G, pos, alpha=0.5)\n",
        "nx.draw(G)\n",
        "plt.show()"
      ],
      "execution_count": null,
      "outputs": [
        {
          "output_type": "stream",
          "text": [
            "{0: 0, 1: 0, 2: 0, 3: 0, 4: 2, 5: 2, 6: 2, 7: 0, 8: 3, 9: 3, 10: 2, 11: 0, 12: 0, 13: 0, 14: 3, 15: 3, 16: 2, 17: 0, 18: 3, 19: 0, 20: 3, 21: 0, 22: 3, 23: 1, 24: 1, 25: 1, 26: 3, 27: 1, 28: 1, 29: 3, 30: 3, 31: 1, 32: 3, 33: 3}\n"
          ],
          "name": "stdout"
        },
        {
          "output_type": "display_data",
          "data": {
            "image/png": "[encoded data removed]",
            "text/plain": [
              "<Figure size 432x288 with 1 Axes>"
            ]
          },
          "metadata": {
            "tags": []
          }
        }
      ]
    },
    {
      "cell_type": "markdown",
      "metadata": {
        "id": "-zZUKHYm_wKp"
      },
      "source": [
        "# QUALITY MEASURE"
      ]
    },
    {
      "cell_type": "code",
      "metadata": {
        "id": "oFIh8B-B_ByO"
      },
      "source": [
        "#Quality Measure\n",
        "def delta(u,v):\n",
        "    return matrix[u][v]"
      ],
      "execution_count": null,
      "outputs": []
    },
    {
      "cell_type": "code",
      "metadata": {
        "id": "r7kc-SUr_0IB",
        "colab": {
          "base_uri": "https://localhost:8080/"
        },
        "outputId": "effc1cc8-8dc6-43a1-acd3-ceb3fd30dce1"
      },
      "source": [
        "partition"
      ],
      "execution_count": null,
      "outputs": [
        {
          "output_type": "execute_result",
          "data": {
            "text/plain": [
              "{0: 0,\n",
              " 1: 0,\n",
              " 2: 0,\n",
              " 3: 0,\n",
              " 4: 2,\n",
              " 5: 2,\n",
              " 6: 2,\n",
              " 7: 0,\n",
              " 8: 3,\n",
              " 9: 3,\n",
              " 10: 2,\n",
              " 11: 0,\n",
              " 12: 0,\n",
              " 13: 0,\n",
              " 14: 3,\n",
              " 15: 3,\n",
              " 16: 2,\n",
              " 17: 0,\n",
              " 18: 3,\n",
              " 19: 0,\n",
              " 20: 3,\n",
              " 21: 0,\n",
              " 22: 3,\n",
              " 23: 1,\n",
              " 24: 1,\n",
              " 25: 1,\n",
              " 26: 3,\n",
              " 27: 1,\n",
              " 28: 1,\n",
              " 29: 3,\n",
              " 30: 3,\n",
              " 31: 1,\n",
              " 32: 3,\n",
              " 33: 3}"
            ]
          },
          "metadata": {
            "tags": []
          },
          "execution_count": 5
        }
      ]
    },
    {
      "cell_type": "code",
      "metadata": {
        "id": "9GN_Hxet_4aI",
        "colab": {
          "base_uri": "https://localhost:8080/"
        },
        "outputId": "df1aae15-c911-4ee0-ff8b-d70542dbdef4"
      },
      "source": [
        "mat = nx.to_numpy_matrix(G)\n",
        "mat"
      ],
      "execution_count": null,
      "outputs": [
        {
          "output_type": "execute_result",
          "data": {
            "text/plain": [
              "matrix([[0., 1., 1., ..., 1., 0., 0.],\n",
              "        [1., 0., 1., ..., 0., 0., 0.],\n",
              "        [1., 1., 0., ..., 0., 1., 0.],\n",
              "        ...,\n",
              "        [1., 0., 0., ..., 0., 1., 1.],\n",
              "        [0., 0., 1., ..., 1., 0., 1.],\n",
              "        [0., 0., 0., ..., 1., 1., 0.]])"
            ]
          },
          "metadata": {
            "tags": []
          },
          "execution_count": 6
        }
      ]
    },
    {
      "cell_type": "code",
      "metadata": {
        "id": "2pL54ytE_78T",
        "colab": {
          "base_uri": "https://localhost:8080/"
        },
        "outputId": "7e64c0d3-6534-435c-d36f-ef8e949be191"
      },
      "source": [
        "#creating cluster\n",
        "cluster = [[],[],[],[]]\n",
        "for i in partition:\n",
        "    cluster[partition[i]].append(i)\n",
        "# Clusters and their nodes\n",
        "var = 1\n",
        "for i in cluster:\n",
        "    print(\"Cluter \",var,\"= \",i) \n",
        "    var+=1"
      ],
      "execution_count": null,
      "outputs": [
        {
          "output_type": "stream",
          "text": [
            "Cluter  1 =  [0, 1, 2, 3, 7, 11, 12, 13, 17, 19, 21]\n",
            "Cluter  2 =  [23, 24, 25, 27, 28, 31]\n",
            "Cluter  3 =  [4, 5, 6, 10, 16]\n",
            "Cluter  4 =  [8, 9, 14, 15, 18, 20, 22, 26, 29, 30, 32, 33]\n"
          ],
          "name": "stdout"
        }
      ]
    },
    {
      "cell_type": "code",
      "metadata": {
        "id": "iezTAzln_-qP"
      },
      "source": [
        "# Unifiability of cluster C(i) and C(j)\n",
        "\n",
        "def Unifiability(G,Ci,Cj,mat):\n",
        "\n",
        "    sum1,sum2,sum3 = 0,0,0\n",
        "\n",
        "    for i in Ci:\n",
        "        for j in Cj:\n",
        "            sum1+=int(mat[[i],[j]])\n",
        "\n",
        "    for i in Ci:\n",
        "        for j in G:\n",
        "            sum2+=int(mat[[i],[j]])\n",
        "        for j in Cj:\n",
        "            sum2-=int(mat[[i],[j]])\n",
        "  \n",
        "    for i in Cj:\n",
        "        for j in G:\n",
        "            sum3+=int(mat[[i],[j]])\n",
        "        for j in Ci:\n",
        "            sum3-=int(mat[[i],[j]])\n",
        "\n",
        "    return sum1/(sum2+sum3-sum1)"
      ],
      "execution_count": null,
      "outputs": []
    },
    {
      "cell_type": "code",
      "metadata": {
        "id": "8XSpFTUwAB8a",
        "colab": {
          "base_uri": "https://localhost:8080/"
        },
        "outputId": "49ebc69d-bb51-40ef-88e9-50ad23ebbf0c"
      },
      "source": [
        "# Unifiability between cluster1 and cluster2\n",
        "Unifiability(G,cluster[0],cluster[1],mat)"
      ],
      "execution_count": null,
      "outputs": [
        {
          "output_type": "execute_result",
          "data": {
            "text/plain": [
              "0.04"
            ]
          },
          "metadata": {
            "tags": []
          },
          "execution_count": 9
        }
      ]
    },
    {
      "cell_type": "code",
      "metadata": {
        "id": "YuxOqRKoAFUp"
      },
      "source": [
        "#avarage unifiability\n",
        "def AVU(G,cluster,mat):\n",
        "  \n",
        "  # calling Unifiability for all clusters\n",
        "\n",
        "    sum_unifiability = 0\n",
        "\n",
        "    for i in cluster:\n",
        "        for j in cluster:\n",
        "              if i!=j:\n",
        "                sum_unifiability += Unifiability(G,i,j,mat)\n",
        "\n",
        "    return sum_unifiability/len(cluster)"
      ],
      "execution_count": null,
      "outputs": []
    },
    {
      "cell_type": "code",
      "metadata": {
        "id": "KkCs_KX-AJPY"
      },
      "source": [
        "AVU_G = AVU(G=G,cluster=cluster,mat=mat)"
      ],
      "execution_count": null,
      "outputs": []
    },
    {
      "cell_type": "code",
      "metadata": {
        "id": "AXMmYeDdAMlP",
        "colab": {
          "base_uri": "https://localhost:8080/"
        },
        "outputId": "e263ae3b-cf50-46bb-dd0d-269d01431d31"
      },
      "source": [
        "# AVU of graph G\n",
        "AVU_G"
      ],
      "execution_count": null,
      "outputs": [
        {
          "output_type": "execute_result",
          "data": {
            "text/plain": [
              "0.14741413916146298"
            ]
          },
          "metadata": {
            "tags": []
          },
          "execution_count": 12
        }
      ]
    },
    {
      "cell_type": "code",
      "metadata": {
        "id": "_OwcjrmwAPiv"
      },
      "source": [
        "# Isolability of cluster C(i)\n",
        "\n",
        "def Isolability(G,Ci,mat):\n",
        "\n",
        "    sum1,sum2 = 0,0\n",
        "\n",
        "    for i in Ci:\n",
        "        for j in Ci:\n",
        "            sum1+=int(mat[[i],[j]])\n",
        "\n",
        "    for i in Ci:\n",
        "        for j in G:\n",
        "            if i!=j:\n",
        "                sum2+=int(mat[[i],[j]])\n",
        "\n",
        "    return sum1/(sum1+sum2)"
      ],
      "execution_count": null,
      "outputs": []
    },
    {
      "cell_type": "code",
      "metadata": {
        "id": "m6cZxBDVASeN",
        "colab": {
          "base_uri": "https://localhost:8080/"
        },
        "outputId": "140dde1f-2715-4fc9-fcbf-f12cdd8bef88"
      },
      "source": [
        "Isolability(G=G,Ci=cluster[0],mat=mat)"
      ],
      "execution_count": null,
      "outputs": [
        {
          "output_type": "execute_result",
          "data": {
            "text/plain": [
              "0.4339622641509434"
            ]
          },
          "metadata": {
            "tags": []
          },
          "execution_count": 14
        }
      ]
    },
    {
      "cell_type": "code",
      "metadata": {
        "id": "QrzP64ZkAWZ4"
      },
      "source": [
        "# AVI\n",
        "\n",
        "def AVI(G,cluster,mat):\n",
        "\n",
        "    sum = 0\n",
        "  \n",
        "    for i in cluster:\n",
        "        sum += Isolability(G,i,mat)\n",
        "\n",
        "    return sum/len(cluster)"
      ],
      "execution_count": null,
      "outputs": []
    },
    {
      "cell_type": "code",
      "metadata": {
        "id": "IJyYwvgVAYma"
      },
      "source": [
        "AVI_G = AVI(G,cluster,mat)"
      ],
      "execution_count": null,
      "outputs": []
    },
    {
      "cell_type": "code",
      "metadata": {
        "id": "cHu2oPsjAawf",
        "colab": {
          "base_uri": "https://localhost:8080/"
        },
        "outputId": "ce8be2ce-e040-4711-c097-ad9c1cd1d648"
      },
      "source": [
        "# AVI of graph G\n",
        "\n",
        "AVI_G"
      ],
      "execution_count": null,
      "outputs": [
        {
          "output_type": "execute_result",
          "data": {
            "text/plain": [
              "0.41488154348134487"
            ]
          },
          "metadata": {
            "tags": []
          },
          "execution_count": 17
        }
      ]
    },
    {
      "cell_type": "code",
      "metadata": {
        "id": "xEDlvfQaAcz_"
      },
      "source": [
        "# AUI \n",
        "\n",
        "def AUI(G,cluster,mat):\n",
        "    avi = AVI(G,cluster,mat)\n",
        "    avu = AVU(G=G,cluster=cluster,mat=mat)\n",
        "    return (2*avi)/(1+avu*avi)"
      ],
      "execution_count": null,
      "outputs": []
    },
    {
      "cell_type": "code",
      "metadata": {
        "id": "vGX1bnxeAfHM",
        "colab": {
          "base_uri": "https://localhost:8080/"
        },
        "outputId": "03f824f5-7929-4dd1-aa91-b9790fb727a0"
      },
      "source": [
        "AUI_G = AUI(G,cluster,mat)\n",
        "# AUI of graph G\n",
        "\n",
        "AUI_G"
      ],
      "execution_count": null,
      "outputs": [
        {
          "output_type": "execute_result",
          "data": {
            "text/plain": [
              "0.7819400955168019"
            ]
          },
          "metadata": {
            "tags": []
          },
          "execution_count": 19
        }
      ]
    },
    {
      "cell_type": "code",
      "metadata": {
        "id": "HltAzUx3AhQu"
      },
      "source": [
        "# ANUI\n",
        "\n",
        "def ANUI(G,cluster,mat):\n",
        "      return AUI(G,cluster,mat)/2"
      ],
      "execution_count": null,
      "outputs": []
    },
    {
      "cell_type": "code",
      "metadata": {
        "id": "Yk6lavceAjrZ",
        "colab": {
          "base_uri": "https://localhost:8080/"
        },
        "outputId": "2ec05497-da1c-4e6a-9f08-e421e795eb1d"
      },
      "source": [
        "ANUI_G = ANUI(G,cluster,mat)\n",
        "# ANUI of graph G\n",
        "\n",
        "ANUI_G"
      ],
      "execution_count": null,
      "outputs": [
        {
          "output_type": "execute_result",
          "data": {
            "text/plain": [
              "0.39097004775840094"
            ]
          },
          "metadata": {
            "tags": []
          },
          "execution_count": 21
        }
      ]
    },
    {
      "cell_type": "code",
      "metadata": {
        "id": "FD2dGtAEAmGG",
        "colab": {
          "base_uri": "https://localhost:8080/"
        },
        "outputId": "c98292de-3127-4bbc-b662-35d766187813"
      },
      "source": [
        "Modularity_G = nx.algorithms.community.quality.modularity(G,communities=cluster)\n",
        "# Quality measure using Modularity from networkx library of graph G\n",
        "\n",
        "Modularity_G"
      ],
      "execution_count": null,
      "outputs": [
        {
          "output_type": "execute_result",
          "data": {
            "text/plain": [
              "0.41978961209730437"
            ]
          },
          "metadata": {
            "tags": []
          },
          "execution_count": 22
        }
      ]
    },
    {
      "cell_type": "code",
      "metadata": {
        "id": "TSHGXeXBAoWT"
      },
      "source": [
        "#accuracy  measures\n",
        "# original mapping of graph G\n",
        "truelabel = {0: 0,\n",
        " 1: 0,\n",
        " 2: 0,\n",
        " 3: 0,\n",
        " 4: 0,\n",
        " 5: 0,\n",
        " 6: 0,\n",
        " 7: 0,\n",
        " 8: 0,\n",
        " 9: 1,\n",
        " 10: 0,\n",
        " 11: 0,\n",
        " 12: 0,\n",
        " 13: 0,\n",
        " 14: 1,\n",
        " 15: 1,\n",
        " 16: 0,\n",
        " 17: 0,\n",
        " 18: 1,\n",
        " 19: 0,\n",
        " 20: 1,\n",
        " 21: 0,\n",
        " 22: 1,\n",
        " 23: 1,\n",
        " 24: 1,\n",
        " 25: 1,\n",
        " 26: 1,\n",
        " 27: 1,\n",
        " 28: 1,\n",
        " 29: 1,\n",
        " 30: 1,\n",
        " 31: 1,\n",
        " 32: 1,\n",
        " 33: 1}"
      ],
      "execution_count": null,
      "outputs": []
    },
    {
      "cell_type": "code",
      "metadata": {
        "id": "SpiDsdGwArZg"
      },
      "source": [
        "## F-measure\n",
        "## f-measure  = truepositive/(truepositive + 1/2(falsepositive + falsenegative))\n",
        "\n",
        "def fmeasure(truelabel,predlabel,G,true,false,ptrue,pfalse):\n",
        "  \n",
        "  # truepositive\n",
        "    tp = 0.0\n",
        "    for i in G:\n",
        "        if predlabel[i] == true:\n",
        "              if truelabel[i] in ptrue:\n",
        "                tp+=1\n",
        "\n",
        "  # falsepositive\n",
        "    fp = 0.0\n",
        "    for i in G:\n",
        "        if predlabel[i] == false:\n",
        "            if truelabel[i] in pfalse:\n",
        "                fp+=1\n",
        "\n",
        "  # falsenegative\n",
        "    fn = 0.0\n",
        "    for i in G:\n",
        "        if predlabel[i] == false:\n",
        "            if not truelabel[i] in ptrue:\n",
        "                fn+=1\n",
        "        \n",
        "    print(\"tp=\",tp,\" fp=\",fp,\" fn=\",fn)\n",
        "    print(\"precision = \", tp/(tp+fp))\n",
        "    print(\"recall = \", tp/(tp+fn))\n",
        "\n",
        "    return tp/(tp + 0.5*(fp+fn))"
      ],
      "execution_count": null,
      "outputs": []
    },
    {
      "cell_type": "code",
      "metadata": {
        "id": "d-H9wBdkAvzB",
        "colab": {
          "base_uri": "https://localhost:8080/"
        },
        "outputId": "d17feecd-e516-4072-99a3-3a7497a356d9"
      },
      "source": [
        "fmeasure(truelabel,partition,G,true=1,false=0,ptrue={1,0},pfalse={2,3})"
      ],
      "execution_count": null,
      "outputs": [
        {
          "output_type": "stream",
          "text": [
            "tp= 6.0  fp= 0.0  fn= 0.0\n",
            "precision =  1.0\n",
            "recall =  1.0\n"
          ],
          "name": "stdout"
        },
        {
          "output_type": "execute_result",
          "data": {
            "text/plain": [
              "1.0"
            ]
          },
          "metadata": {
            "tags": []
          },
          "execution_count": 25
        }
      ]
    },
    {
      "cell_type": "code",
      "metadata": {
        "id": "DQ6-dDStAyH-"
      },
      "source": [
        "## normalized mutual Information \n",
        "## NMI = 2*I(Y;C)/[H(Y)+H(C)]\n",
        "\n",
        "def NMI(G,truelabel,predlabel,cluster):\n",
        "\n",
        "  ## Entropy of class label\n",
        "    prob = {}\n",
        "    for i in G:\n",
        "        if truelabel[i] in prob:\n",
        "            prob[truelabel[i]] += 1.0\n",
        "        else:\n",
        "            prob[truelabel[i]] = 0.0\n",
        "\n",
        "    u = []\n",
        "    for i in prob:\n",
        "        u.append(prob[i]/len(G)) \n",
        "\n",
        "    hy = 0.0\n",
        "    for i in u:\n",
        "        hy += (-i)*(math.log(i,2))\n",
        "\n",
        "  ## Entropy of cluster label\n",
        "    prob2 = {}\n",
        "    for i in G:\n",
        "        if predlabel[i] in prob2:\n",
        "               prob2[predlabel[i]] += 1.0\n",
        "        else:\n",
        "              prob2[predlabel[i]] = 0.0\n",
        "\n",
        "    v = []\n",
        "    for i in prob2:\n",
        "        v.append(prob2[i]/len(G))\n",
        "\n",
        "\n",
        "    hc = 0.0\n",
        "    for i in v:\n",
        "        hc += (-i)*(math.log(i,2))\n",
        "  \n",
        "    print(\"hy\\t:Entropy of class label\\t\\t\\t = \",hy)\n",
        "    print(\"hc\\t:Entropy of cluster label\\t\\t = \",hc)\n",
        "\n",
        "  ## Mutual Information\n",
        "\n",
        "  \n",
        "    hyc = 0.0\n",
        "    for j in cluster:\n",
        "\n",
        "        p = {}\n",
        "        p.clear()\n",
        "        for i in G:\n",
        "              p[predlabel[i]]=0.0\n",
        "\n",
        "        for i in j:\n",
        "\n",
        "            if predlabel[i] == truelabel[i]:\n",
        "                p[predlabel[i]]+= 1.0\n",
        "\n",
        "\n",
        "        for i in p:\n",
        "            p[i]=p[i]/len(j)\n",
        "    \n",
        "        temp = 0.0\n",
        "        for i in p:\n",
        "            if p[i] != 0:\n",
        "                hyc -= p[i]*(math.log(p[i],2))\n",
        "\n",
        "    iyc = hy -hyc\n",
        "    print(\"hyc\\t:Entropy of class label within cluster\\t = \",hyc)\n",
        "    print(\"iyc\\t:Mutual Information\\t\\t\\t = \",iyc)\n",
        "    return print(\"\\nNMI  = \",(2*iyc)/(hy+hc))"
      ],
      "execution_count": null,
      "outputs": []
    },
    {
      "cell_type": "code",
      "metadata": {
        "id": "-Ct59i-FA1w_",
        "colab": {
          "base_uri": "https://localhost:8080/"
        },
        "outputId": "d2486db0-8d37-4143-b5ea-0ed845782f7a"
      },
      "source": [
        "NMI(G,truelabel,partition,cluster)"
      ],
      "execution_count": null,
      "outputs": [
        {
          "output_type": "stream",
          "text": [
            "hy\t:Entropy of class label\t\t\t =  1.023494438823849\n",
            "hc\t:Entropy of cluster label\t\t =  1.8159181179173376\n",
            "hyc\t:Entropy of class label within cluster\t =  0.0\n",
            "iyc\t:Mutual Information\t\t\t =  1.023494438823849\n",
            "\n",
            "NMI  =  0.7209198511106963\n"
          ],
          "name": "stdout"
        }
      ]
    },
    {
      "cell_type": "code",
      "metadata": {
        "id": "_2vtOUAUA4oB",
        "colab": {
          "base_uri": "https://localhost:8080/"
        },
        "outputId": "47f026d3-d26c-4b21-c92e-e7cc1b1b13bd"
      },
      "source": [
        "#ARI\n",
        "from sklearn.metrics.cluster import adjusted_rand_score\n",
        "def fun2(d):\n",
        "    ls = []\n",
        "    for key, val in d.items():\n",
        "        ls.append(val)\n",
        "    return ls\n",
        "y_true = [0, 0, 0, 0, 0, 0, 0, 0, 1, 1, 0, 0, 0, 0, 1, 1, 0, 0, 1, 0, 1, 0, 1, 1, 1, 1, 1, 1, 1, 1, 1, 1, 1, 1]\n",
        "\n",
        "y_pred = fun2(partition)\n",
        "#print(communities)\n",
        "#print(y_pred)\n",
        "#print(type(y_pred))\n",
        "\n",
        "ars_results = adjusted_rand_score(y_true, y_pred)\n",
        "\n",
        "print(\"ARI =\", ars_results)"
      ],
      "execution_count": null,
      "outputs": [
        {
          "output_type": "stream",
          "text": [
            "ARI = 0.5413568683493947\n"
          ],
          "name": "stdout"
        }
      ]
    },
    {
      "cell_type": "code",
      "metadata": {
        "id": "PJlw4w5mA7Gf"
      },
      "source": [
        "def intersection(lst1,lst2):\n",
        "    temp=set(lst2)\n",
        "    lst3=[value for value in lst1 if value in temp]\n",
        "    \n",
        "    return lst3\n"
      ],
      "execution_count": null,
      "outputs": []
    },
    {
      "cell_type": "code",
      "metadata": {
        "id": "8zVwNPUOA9i1"
      },
      "source": [
        "def internal_clustering_coefficient(G,cluster,v):\n",
        "    nodes=intersection(cluster,nx.neighbors(G,v))\n",
        "    nodes.append(v);\n",
        "    H=G.subgraph(nodes)\n",
        "    internal_CC=nx.clustering(H)\n",
        "    return internal_CC[v],len(nodes)-1"
      ],
      "execution_count": null,
      "outputs": []
    },
    {
      "cell_type": "code",
      "metadata": {
        "id": "alMZpHZqA_5_"
      },
      "source": [
        "C_in={}\n",
        "I={}\n",
        "for i in cluster:\n",
        "    for j in i:\n",
        "        C_in[j],I[j]=internal_clustering_coefficient(G,i,j)"
      ],
      "execution_count": null,
      "outputs": []
    },
    {
      "cell_type": "code",
      "metadata": {
        "id": "-u7TilzQBB8a"
      },
      "source": [
        "D=G.degree()"
      ],
      "execution_count": null,
      "outputs": []
    },
    {
      "cell_type": "code",
      "metadata": {
        "id": "opi_9ecYBD9K"
      },
      "source": [
        "def External_conn_max(G,cluster,v):\n",
        "    max=0\n",
        "    for i in cluster:\n",
        "        x=0\n",
        "        for j in i:\n",
        "            if(mat[[v],[j]]):\n",
        "                x=x+1\n",
        "        if(x>max):\n",
        "            max=x\n",
        "    return max"
      ],
      "execution_count": null,
      "outputs": []
    },
    {
      "cell_type": "code",
      "metadata": {
        "id": "AIA1r7YCBGGx"
      },
      "source": [
        "E_max={}\n",
        "for i in G:\n",
        "    E_max[i]=External_conn_max(G,cluster,i)"
      ],
      "execution_count": null,
      "outputs": []
    },
    {
      "cell_type": "code",
      "metadata": {
        "id": "pLepSgUqBIcI"
      },
      "source": [
        "#perm\n",
        "def permanence(I,E,D,c):\n",
        "    perm={}\n",
        "    for i in I:\n",
        "        perm[i]=(I[i]/E[i])*(1/D[i])-(1-c[i])\n",
        "    return perm"
      ],
      "execution_count": null,
      "outputs": []
    },
    {
      "cell_type": "code",
      "metadata": {
        "id": "yYwFvKjCBKRx"
      },
      "source": [
        "perm=permanence(I,E_max,D,C_in)"
      ],
      "execution_count": null,
      "outputs": []
    },
    {
      "cell_type": "code",
      "metadata": {
        "id": "uDFhq1eABMeQ",
        "colab": {
          "base_uri": "https://localhost:8080/"
        },
        "outputId": "10f85756-7dad-4b9e-e82d-c4e2e9c4e6bf"
      },
      "source": [
        "perm"
      ],
      "execution_count": null,
      "outputs": [
        {
          "output_type": "execute_result",
          "data": {
            "text/plain": [
              "{0: -0.6486111111111111,\n",
              " 1: -0.4603174603174603,\n",
              " 2: 2.7755575615628914e-17,\n",
              " 3: -0.1666666666666667,\n",
              " 4: -0.6666666666666667,\n",
              " 5: -0.41666666666666674,\n",
              " 6: -0.41666666666666674,\n",
              " 7: 0.25,\n",
              " 8: 0.2,\n",
              " 9: -0.5,\n",
              " 10: -0.6666666666666667,\n",
              " 11: 0.0,\n",
              " 12: 0.5,\n",
              " 13: 0.2,\n",
              " 14: 0.5,\n",
              " 15: 0.5,\n",
              " 16: 0.5,\n",
              " 17: 0.5,\n",
              " 18: 0.5,\n",
              " 19: 0.3333333333333333,\n",
              " 20: 0.5,\n",
              " 21: 0.5,\n",
              " 22: 0.5,\n",
              " 23: -0.8666666666666667,\n",
              " 24: -0.3333333333333334,\n",
              " 25: -0.3333333333333334,\n",
              " 26: 0.5,\n",
              " 27: -0.75,\n",
              " 28: -0.6666666666666667,\n",
              " 29: -0.08333333333333337,\n",
              " 30: 0.25,\n",
              " 31: -0.5000000000000001,\n",
              " 32: -0.6666666666666666,\n",
              " 33: -0.7593582887700534}"
            ]
          },
          "metadata": {
            "tags": []
          },
          "execution_count": 37
        }
      ]
    },
    {
      "cell_type": "code",
      "metadata": {
        "id": "gb2ZKOR_BOb8"
      },
      "source": [
        ""
      ],
      "execution_count": null,
      "outputs": []
    },
    {
      "cell_type": "markdown",
      "metadata": {
        "id": "-nCnNMUgBfh6"
      },
      "source": [
        "# PERMANENCE FOR THE GIVEN INPUT"
      ]
    },
    {
      "cell_type": "code",
      "metadata": {
        "id": "NlJj_il3BRkh",
        "colab": {
          "base_uri": "https://localhost:8080/",
          "height": 285
        },
        "outputId": "37fbf11a-f70d-4724-c9b4-6ad08ee2940f"
      },
      "source": [
        "G = nx.karate_club_graph()\n",
        "file = '15rw_t06.csv'\n",
        "nodes = []\n",
        "edge_list = []\n",
        "with open(file, 'r') as read_obj:\n",
        "    csv_reader = reader(read_obj)\n",
        "    count = 0                              ##If csv file has first row Source Destination use count to ignore it \n",
        "    for row in csv_reader:\n",
        "        if count != 0:\n",
        "            u, v = row\n",
        "            u = int(u) \n",
        "            v = int(v)\n",
        "            edge_list.append((int(u),int(v)))   ## or use     edge_list.append((int(u)-1,int(v)-1))\n",
        "        count += 1\n",
        "\n",
        "G.add_edges_from(edge_list)\n",
        "#Louvain Partition\n",
        "partition = community_louvain.best_partition(G)\n",
        "print(partition)\n",
        "# draw the graph\n",
        "pos = nx.spring_layout(G)\n",
        "\n",
        "# color the nodes according to their partition\n",
        "cmap = cm.get_cmap('viridis', max(partition.values()) + 1)\n",
        "nx.draw_networkx_nodes(G, pos, partition.keys(), node_size=40,\n",
        "                       cmap=cmap, node_color=list(partition.values()))\n",
        "# nx.draw_networkx_edges(G, pos, alpha=0.5)\n",
        "nx.draw(G)\n",
        "plt.show()"
      ],
      "execution_count": null,
      "outputs": [
        {
          "output_type": "stream",
          "text": [
            "{0: 2, 1: 1, 2: 2, 3: 2, 4: 2, 5: 2, 6: 2, 7: 2, 8: 2, 9: 2, 10: 2, 11: 2, 12: 2, 13: 2, 14: 0, 15: 0, 16: 1, 17: 1, 18: 0, 19: 0, 20: 0, 21: 1, 22: 0, 23: 0, 24: 0, 25: 0, 26: 0, 27: 0, 28: 0, 29: 0, 30: 0, 31: 0, 32: 0, 33: 0}\n"
          ],
          "name": "stdout"
        },
        {
          "output_type": "display_data",
          "data": {
            "image/png": "[encoded data removed]",
            "text/plain": [
              "<Figure size 432x288 with 1 Axes>"
            ]
          },
          "metadata": {
            "tags": []
          }
        }
      ]
    },
    {
      "cell_type": "code",
      "metadata": {
        "id": "5iDTHhhUBwJZ",
        "colab": {
          "base_uri": "https://localhost:8080/"
        },
        "outputId": "a44ea958-14c0-4655-d100-d104479d1eef"
      },
      "source": [
        "#creating cluster Louvain\n",
        "cluster = [[],[],[],[]]\n",
        "for i in partition:\n",
        "    cluster[partition[i]].append(i)\n",
        "# Clusters and their nodes\n",
        "var = 1\n",
        "for i in cluster:\n",
        "    print(\"Cluter \",var,\"= \",i) \n",
        "    var+=1"
      ],
      "execution_count": null,
      "outputs": [
        {
          "output_type": "stream",
          "text": [
            "Cluter  1 =  [14, 15, 18, 19, 20, 22, 23, 24, 25, 26, 27, 28, 29, 30, 31, 32, 33]\n",
            "Cluter  2 =  [1, 16, 17, 21]\n",
            "Cluter  3 =  [0, 2, 3, 4, 5, 6, 7, 8, 9, 10, 11, 12, 13]\n",
            "Cluter  4 =  []\n"
          ],
          "name": "stdout"
        }
      ]
    },
    {
      "cell_type": "code",
      "metadata": {
        "id": "EGRfz49WB1Rw",
        "colab": {
          "base_uri": "https://localhost:8080/"
        },
        "outputId": "ed4b7797-cc01-4651-9af9-257707fa1d72"
      },
      "source": [
        "#One given in the 15rw_comm_t06.txt file\n",
        "cluster = [[1, 2, 3, 4, 5, 6, 7, 8, 9],[10, 11, 12, 13],[14, 15, 16, 17, 18, 19, 20, 21, 22, 23, 24]]\n",
        "\n",
        "var = 1\n",
        "for i in cluster:\n",
        "    print(\"Cluster \",var,\"= \",i) \n",
        "    var+=1\n"
      ],
      "execution_count": null,
      "outputs": [
        {
          "output_type": "stream",
          "text": [
            "Cluster  1 =  [1, 2, 3, 4, 5, 6, 7, 8, 9]\n",
            "Cluster  2 =  [10, 11, 12, 13]\n",
            "Cluster  3 =  [14, 15, 16, 17, 18, 19, 20, 21, 22, 23, 24]\n"
          ],
          "name": "stdout"
        }
      ]
    },
    {
      "cell_type": "code",
      "metadata": {
        "id": "7XY1kTejB4cR"
      },
      "source": [
        "#Adjacency Matrix    \n",
        "mat = np.zeros(shape=(G.number_of_nodes(),G.number_of_nodes()))\n",
        "for i in range (0,G.number_of_nodes()):\n",
        "    for j in range (0,G.number_of_nodes()):\n",
        "        if(G.has_edge(i,j)):\n",
        "            mat[i][j]=1  "
      ],
      "execution_count": null,
      "outputs": []
    },
    {
      "cell_type": "code",
      "metadata": {
        "id": "J4-JHeogB-YN"
      },
      "source": [
        "def intersection(lst1,lst2):\n",
        "    temp=set(lst2)\n",
        "    lst3=[value for value in lst1 if value in temp]\n",
        "    \n",
        "    return lst3\n",
        "\n",
        "def internal_clustering_coefficient(G,cluster,v):\n",
        "    nodes=intersection(cluster,nx.neighbors(G,v))\n",
        "    nodes.append(v);\n",
        "    H=G.subgraph(nodes)\n",
        "    internal_CC=nx.clustering(H)\n",
        "    return internal_CC[v],len(nodes)-1\n",
        "C_in={}\n",
        "I={}\n",
        "for i in cluster:\n",
        "    for j in i:\n",
        "        C_in[j],I[j]=internal_clustering_coefficient(G,i,j)\n",
        "D=G.degree()\n",
        "#print(D)\n",
        "def External_conn_max(G,cluster,v):\n",
        "    max=0\n",
        "    for i in cluster:\n",
        "        x=0\n",
        "        for j in i:\n",
        "            if(mat[[v],[j]]==1):\n",
        "                x=x+1\n",
        "        if(x>max):\n",
        "            max=x\n",
        "    return max\n",
        "E_max={}\n",
        "for i in G:\n",
        "    E_max[i]=External_conn_max(G,cluster,i)\n",
        "    \n",
        "#perm\n",
        "def permanence(I,E,D,c):\n",
        "    perm={}\n",
        "    for i in I:\n",
        "        if(E_max[i]!=0):\n",
        "            perm[i]=((I[i]/E[i])*(1/D[i]))-(1-c[i])\n",
        "        elif(D[i]==0 and E_max[i]==0):\n",
        "            perm[i]=0;\n",
        "        else:\n",
        "            perm[i]=1\n",
        "    return perm\n"
      ],
      "execution_count": null,
      "outputs": []
    },
    {
      "cell_type": "code",
      "metadata": {
        "id": "ulCh-WzwCCh4",
        "colab": {
          "base_uri": "https://localhost:8080/",
          "height": 735
        },
        "outputId": "bfae2968-07f9-493e-8b3c-3dc6cdde0dc0"
      },
      "source": [
        "perm=permanence(I,E_max,D,C_in)\n",
        "perm=collections.OrderedDict(sorted(perm.items()))\n",
        "\n",
        "perm_sum= sum(perm.values())\n",
        "perm_avg= perm_sum/len(perm)\n",
        "print(\"Average Permanance: \"+str(perm_avg), \"\\n\")\n",
        "print(\"Permanence of Nodes\")\n",
        "for i in perm:\n",
        "    print (\"Node \", i , \" \", perm[i])\n",
        "plt.bar(perm.keys(), perm.values(), width=.8, color='g', animated=\"True\")"
      ],
      "execution_count": null,
      "outputs": [
        {
          "output_type": "stream",
          "text": [
            "Average Permanance: -0.3129133597883598 \n",
            "\n",
            "Permanence of Nodes\n",
            "Node  1   0.1111111111111111\n",
            "Node  2   -0.39285714285714285\n",
            "Node  3   -0.375\n",
            "Node  4   -0.13333333333333336\n",
            "Node  5   0.16666666666666666\n",
            "Node  6   -0.3416666666666667\n",
            "Node  7   -0.2571428571428572\n",
            "Node  8   -0.04166666666666663\n",
            "Node  9   -0.35555555555555557\n",
            "Node  10   0.14285714285714285\n",
            "Node  11   0.25\n",
            "Node  12   0.2\n",
            "Node  13   0.125\n",
            "Node  14   -0.675\n",
            "Node  15   -0.75\n",
            "Node  16   0.25\n",
            "Node  17   -0.46666666666666673\n",
            "Node  18   -0.8\n",
            "Node  19   -0.5000000000000001\n",
            "Node  20   -0.75\n",
            "Node  21   -0.6666666666666667\n",
            "Node  22   -0.6666666666666667\n",
            "Node  23   -0.8333333333333334\n",
            "Node  24   -0.75\n"
          ],
          "name": "stdout"
        },
        {
          "output_type": "execute_result",
          "data": {
            "text/plain": [
              "<BarContainer object of 24 artists>"
            ]
          },
          "metadata": {
            "tags": []
          },
          "execution_count": 43
        },
        {
          "output_type": "display_data",
          "data": {
            "image/png": "[encoded data removed]",
            "text/plain": [
              "<Figure size 432x288 with 1 Axes>"
            ]
          },
          "metadata": {
            "tags": [],
            "needs_background": "light"
          }
        }
      ]
    },
    {
      "cell_type": "code",
      "metadata": {
        "id": "1bMM8t74CFcp"
      },
      "source": [
        ""
      ],
      "execution_count": null,
      "outputs": []
    }
  ]
}