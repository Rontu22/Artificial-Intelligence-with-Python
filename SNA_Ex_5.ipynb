{
  "nbformat": 4,
  "nbformat_minor": 0,
  "metadata": {
    "colab": {
      "name": "SNA_Ex_5.ipynb",
      "private_outputs": true,
      "provenance": [],
      "authorship_tag": "ABX9TyMRXdf/V6ORvwFrY2D8Bv/3",
      "include_colab_link": true
    },
    "kernelspec": {
      "name": "python3",
      "display_name": "Python 3"
    },
    "language_info": {
      "name": "python"
    }
  },
  "cells": [
    {
      "cell_type": "markdown",
      "metadata": {
        "id": "view-in-github",
        "colab_type": "text"
      },
      "source": [
        "<a href=\"https://colab.research.google.com/github/Rontu22/Artificial-Intelligence-with-Python/blob/master/SNA_Ex_5.ipynb\" target=\"_parent\"><img src=\"https://colab.research.google.com/assets/colab-badge.svg\" alt=\"Open In Colab\"/></a>"
      ]
    },
    {
      "cell_type": "markdown",
      "metadata": {
        "id": "f5_hrvJ059_Q"
      },
      "source": [
        "# Experiment 5 :"
      ]
    },
    {
      "cell_type": "markdown",
      "metadata": {
        "id": "LoxwvyZD6F85"
      },
      "source": [
        "## Import Libraries"
      ]
    },
    {
      "cell_type": "code",
      "metadata": {
        "id": "7rcfL_15R8j-"
      },
      "source": [
        "import matplotlib.pyplot as plt\n",
        "import pandas as pd\n",
        "import numpy as np\n",
        "from community import community_louvain\n",
        "import matplotlib.cm as cm\n",
        "import matplotlib.pyplot as plt\n",
        "import networkx as nx\n",
        "import math\n",
        "import collections\n",
        "from csv import reader"
      ],
      "execution_count": null,
      "outputs": []
    },
    {
      "cell_type": "markdown",
      "metadata": {
        "id": "UGjw4FGd7Tuv"
      },
      "source": [
        "# Form the graph"
      ]
    },
    {
      "cell_type": "code",
      "metadata": {
        "id": "wPP5zH3j6PDh"
      },
      "source": [
        "G = nx.karate_club_graph()   ## THIS GRAPH IS GOING TO BE EVALUATED\n",
        "# G_Karate = nx.karate_club_graph()\n",
        "G_CSV_GRAPHS = nx.karate_club_graph() ## USING THIS AS PLACEHOLDER FOR GRAPH\n",
        "file = 'dolphin.csv'\n",
        "nodes = []\n",
        "edge_list = []\n",
        "with open(file, 'r') as read_obj:\n",
        "    csv_reader = reader(read_obj)\n",
        "    count = 0                              ##If csv file has first row Source Destination use count to ignore it \n",
        "    for row in csv_reader:\n",
        "        if count != 0:\n",
        "            u, v = row\n",
        "            u = int(u) \n",
        "            v = int(v)\n",
        "            edge_list.append((int(u),int(v)))   ## or use     edge_list.append((int(u)-1,int(v)-1))\n",
        "        count += 1\n",
        "\n",
        "# FORM THE GRAPH\n",
        "# G.add_edges_from(edge_list)\n",
        "\n",
        "# TAKE THE REQUIRED GRAPH\n",
        "# G = G_CSV_GRAPHS\n",
        "\n",
        "\n",
        "#Louvain Partition\n",
        "partition = community_louvain.best_partition(G)\n",
        "print(partition)\n",
        "# draw the graph\n",
        "pos = nx.spring_layout(G)\n",
        "# color the nodes according to their partition\n",
        "cmap = cm.get_cmap('viridis', max(partition.values()) + 1)\n",
        "nx.draw_networkx_nodes(G, pos, partition.keys(), node_size=40,\n",
        "                       cmap=cmap, node_color=list(partition.values()))\n",
        "# nx.draw_networkx_edges(G, pos, alpha=0.5)\n",
        "nx.draw(G)\n",
        "plt.show()"
      ],
      "execution_count": null,
      "outputs": []
    },
    {
      "cell_type": "markdown",
      "metadata": {
        "id": "-zZUKHYm_wKp"
      },
      "source": [
        "# QUALITY MEASURE"
      ]
    },
    {
      "cell_type": "code",
      "metadata": {
        "id": "oFIh8B-B_ByO"
      },
      "source": [
        "#Quality Measure\n",
        "def delta(u,v):\n",
        "    return matrix[u][v]"
      ],
      "execution_count": null,
      "outputs": []
    },
    {
      "cell_type": "code",
      "metadata": {
        "id": "r7kc-SUr_0IB"
      },
      "source": [
        "partition"
      ],
      "execution_count": null,
      "outputs": []
    },
    {
      "cell_type": "code",
      "metadata": {
        "id": "9GN_Hxet_4aI"
      },
      "source": [
        "mat = nx.to_numpy_matrix(G)\n",
        "mat"
      ],
      "execution_count": null,
      "outputs": []
    },
    {
      "cell_type": "code",
      "metadata": {
        "id": "2pL54ytE_78T"
      },
      "source": [
        "#creating cluster\n",
        "cluster = [[],[],[],[]]\n",
        "for i in partition:\n",
        "    cluster[partition[i]].append(i)\n",
        "# Clusters and their nodes\n",
        "var = 1\n",
        "for i in cluster:\n",
        "    print(\"Cluter \",var,\"= \",i) \n",
        "    var+=1"
      ],
      "execution_count": null,
      "outputs": []
    },
    {
      "cell_type": "code",
      "metadata": {
        "id": "iezTAzln_-qP"
      },
      "source": [
        "# Unifiability of cluster C(i) and C(j)\n",
        "\n",
        "def Unifiability(G,Ci,Cj,mat):\n",
        "\n",
        "    sum1,sum2,sum3 = 0,0,0\n",
        "\n",
        "    for i in Ci:\n",
        "        for j in Cj:\n",
        "            sum1+=int(mat[[i],[j]])\n",
        "\n",
        "    for i in Ci:\n",
        "        for j in G:\n",
        "            sum2+=int(mat[[i],[j]])\n",
        "        for j in Cj:\n",
        "            sum2-=int(mat[[i],[j]])\n",
        "  \n",
        "    for i in Cj:\n",
        "        for j in G:\n",
        "            sum3+=int(mat[[i],[j]])\n",
        "        for j in Ci:\n",
        "            sum3-=int(mat[[i],[j]])\n",
        "\n",
        "    return sum1/(sum2+sum3-sum1)"
      ],
      "execution_count": null,
      "outputs": []
    },
    {
      "cell_type": "code",
      "metadata": {
        "id": "8XSpFTUwAB8a"
      },
      "source": [
        "# Unifiability between cluster1 and cluster2\n",
        "Unifiability(G,cluster[0],cluster[1],mat)"
      ],
      "execution_count": null,
      "outputs": []
    },
    {
      "cell_type": "code",
      "metadata": {
        "id": "YuxOqRKoAFUp"
      },
      "source": [
        "#avarage unifiability\n",
        "def AVU(G,cluster,mat):\n",
        "  \n",
        "  # calling Unifiability for all clusters\n",
        "\n",
        "    sum_unifiability = 0\n",
        "\n",
        "    for i in cluster:\n",
        "        for j in cluster:\n",
        "              if i!=j:\n",
        "                sum_unifiability += Unifiability(G,i,j,mat)\n",
        "\n",
        "    return sum_unifiability/len(cluster)"
      ],
      "execution_count": null,
      "outputs": []
    },
    {
      "cell_type": "code",
      "metadata": {
        "id": "KkCs_KX-AJPY"
      },
      "source": [
        "AVU_G = AVU(G=G,cluster=cluster,mat=mat)"
      ],
      "execution_count": null,
      "outputs": []
    },
    {
      "cell_type": "code",
      "metadata": {
        "id": "AXMmYeDdAMlP"
      },
      "source": [
        "# AVU of graph G\n",
        "AVU_G"
      ],
      "execution_count": null,
      "outputs": []
    },
    {
      "cell_type": "code",
      "metadata": {
        "id": "_OwcjrmwAPiv"
      },
      "source": [
        "# Isolability of cluster C(i)\n",
        "\n",
        "def Isolability(G,Ci,mat):\n",
        "\n",
        "    sum1,sum2 = 0,0\n",
        "\n",
        "    for i in Ci:\n",
        "        for j in Ci:\n",
        "            sum1+=int(mat[[i],[j]])\n",
        "\n",
        "    for i in Ci:\n",
        "        for j in G:\n",
        "            if i!=j:\n",
        "                sum2+=int(mat[[i],[j]])\n",
        "\n",
        "    return sum1/(sum1+sum2)"
      ],
      "execution_count": null,
      "outputs": []
    },
    {
      "cell_type": "code",
      "metadata": {
        "id": "m6cZxBDVASeN"
      },
      "source": [
        "Isolability(G=G,Ci=cluster[0],mat=mat)"
      ],
      "execution_count": null,
      "outputs": []
    },
    {
      "cell_type": "code",
      "metadata": {
        "id": "QrzP64ZkAWZ4"
      },
      "source": [
        "# AVI\n",
        "\n",
        "def AVI(G,cluster,mat):\n",
        "\n",
        "    sum = 0\n",
        "  \n",
        "    for i in cluster:\n",
        "        sum += Isolability(G,i,mat)\n",
        "\n",
        "    return sum/len(cluster)"
      ],
      "execution_count": null,
      "outputs": []
    },
    {
      "cell_type": "code",
      "metadata": {
        "id": "IJyYwvgVAYma"
      },
      "source": [
        "AVI_G = AVI(G,cluster,mat)"
      ],
      "execution_count": null,
      "outputs": []
    },
    {
      "cell_type": "code",
      "metadata": {
        "id": "cHu2oPsjAawf"
      },
      "source": [
        "# AVI of graph G\n",
        "\n",
        "AVI_G"
      ],
      "execution_count": null,
      "outputs": []
    },
    {
      "cell_type": "code",
      "metadata": {
        "id": "xEDlvfQaAcz_"
      },
      "source": [
        "# AUI \n",
        "\n",
        "def AUI(G,cluster,mat):\n",
        "    avi = AVI(G,cluster,mat)\n",
        "    avu = AVU(G=G,cluster=cluster,mat=mat)\n",
        "    return (2*avi)/(1+avu*avi)"
      ],
      "execution_count": null,
      "outputs": []
    },
    {
      "cell_type": "code",
      "metadata": {
        "id": "vGX1bnxeAfHM"
      },
      "source": [
        "AUI_G = AUI(G,cluster,mat)\n",
        "# AUI of graph G\n",
        "\n",
        "AUI_G"
      ],
      "execution_count": null,
      "outputs": []
    },
    {
      "cell_type": "code",
      "metadata": {
        "id": "HltAzUx3AhQu"
      },
      "source": [
        "# ANUI\n",
        "\n",
        "def ANUI(G,cluster,mat):\n",
        "      return AUI(G,cluster,mat)/2"
      ],
      "execution_count": null,
      "outputs": []
    },
    {
      "cell_type": "code",
      "metadata": {
        "id": "Yk6lavceAjrZ"
      },
      "source": [
        "ANUI_G = ANUI(G,cluster,mat)\n",
        "# ANUI of graph G\n",
        "\n",
        "ANUI_G"
      ],
      "execution_count": null,
      "outputs": []
    },
    {
      "cell_type": "code",
      "metadata": {
        "id": "FD2dGtAEAmGG"
      },
      "source": [
        "Modularity_G = nx.algorithms.community.quality.modularity(G,communities=cluster)\n",
        "# Quality measure using Modularity from networkx library of graph G\n",
        "\n",
        "Modularity_G"
      ],
      "execution_count": null,
      "outputs": []
    },
    {
      "cell_type": "code",
      "metadata": {
        "id": "TSHGXeXBAoWT"
      },
      "source": [
        "#accuracy  measures\n",
        "# original mapping of graph G\n",
        "truelabel = {0: 0,\n",
        " 1: 0,\n",
        " 2: 0,\n",
        " 3: 0,\n",
        " 4: 0,\n",
        " 5: 0,\n",
        " 6: 0,\n",
        " 7: 0,\n",
        " 8: 0,\n",
        " 9: 1,\n",
        " 10: 0,\n",
        " 11: 0,\n",
        " 12: 0,\n",
        " 13: 0,\n",
        " 14: 1,\n",
        " 15: 1,\n",
        " 16: 0,\n",
        " 17: 0,\n",
        " 18: 1,\n",
        " 19: 0,\n",
        " 20: 1,\n",
        " 21: 0,\n",
        " 22: 1,\n",
        " 23: 1,\n",
        " 24: 1,\n",
        " 25: 1,\n",
        " 26: 1,\n",
        " 27: 1,\n",
        " 28: 1,\n",
        " 29: 1,\n",
        " 30: 1,\n",
        " 31: 1,\n",
        " 32: 1,\n",
        " 33: 1}"
      ],
      "execution_count": null,
      "outputs": []
    },
    {
      "cell_type": "code",
      "metadata": {
        "id": "SpiDsdGwArZg"
      },
      "source": [
        "## F-measure\n",
        "## f-measure  = truepositive/(truepositive + 1/2(falsepositive + falsenegative))\n",
        "\n",
        "def fmeasure(truelabel,predlabel,G,true,false,ptrue,pfalse):\n",
        "  \n",
        "  # truepositive\n",
        "    tp = 0.0\n",
        "    for i in G:\n",
        "        if predlabel[i] == true:\n",
        "              if truelabel[i] in ptrue:\n",
        "                tp+=1\n",
        "\n",
        "  # falsepositive\n",
        "    fp = 0.0\n",
        "    for i in G:\n",
        "        if predlabel[i] == false:\n",
        "            if truelabel[i] in pfalse:\n",
        "                fp+=1\n",
        "\n",
        "  # falsenegative\n",
        "    fn = 0.0\n",
        "    for i in G:\n",
        "        if predlabel[i] == false:\n",
        "            if not truelabel[i] in ptrue:\n",
        "                fn+=1\n",
        "        \n",
        "    print(\"tp=\",tp,\" fp=\",fp,\" fn=\",fn)\n",
        "    print(\"precision = \", tp/(tp+fp))\n",
        "    print(\"recall = \", tp/(tp+fn))\n",
        "\n",
        "    return tp/(tp + 0.5*(fp+fn))"
      ],
      "execution_count": null,
      "outputs": []
    },
    {
      "cell_type": "code",
      "metadata": {
        "id": "d-H9wBdkAvzB"
      },
      "source": [
        "fmeasure(truelabel,partition,G,true=1,false=0,ptrue={1,0},pfalse={2,3})"
      ],
      "execution_count": null,
      "outputs": []
    },
    {
      "cell_type": "code",
      "metadata": {
        "id": "DQ6-dDStAyH-"
      },
      "source": [
        "## normalized mutual Information \n",
        "## NMI = 2*I(Y;C)/[H(Y)+H(C)]\n",
        "\n",
        "def NMI(G,truelabel,predlabel,cluster):\n",
        "\n",
        "  ## Entropy of class label\n",
        "    prob = {}\n",
        "    for i in G:\n",
        "        if truelabel[i] in prob:\n",
        "            prob[truelabel[i]] += 1.0\n",
        "        else:\n",
        "            prob[truelabel[i]] = 0.0\n",
        "\n",
        "    u = []\n",
        "    for i in prob:\n",
        "        u.append(prob[i]/len(G)) \n",
        "\n",
        "    hy = 0.0\n",
        "    for i in u:\n",
        "        hy += (-i)*(math.log(i,2))\n",
        "\n",
        "  ## Entropy of cluster label\n",
        "    prob2 = {}\n",
        "    for i in G:\n",
        "        if predlabel[i] in prob2:\n",
        "               prob2[predlabel[i]] += 1.0\n",
        "        else:\n",
        "              prob2[predlabel[i]] = 0.0\n",
        "\n",
        "    v = []\n",
        "    for i in prob2:\n",
        "        v.append(prob2[i]/len(G))\n",
        "\n",
        "\n",
        "    hc = 0.0\n",
        "    for i in v:\n",
        "        hc += (-i)*(math.log(i,2))\n",
        "  \n",
        "    print(\"hy\\t:Entropy of class label\\t\\t\\t = \",hy)\n",
        "    print(\"hc\\t:Entropy of cluster label\\t\\t = \",hc)\n",
        "\n",
        "  ## Mutual Information\n",
        "\n",
        "  \n",
        "    hyc = 0.0\n",
        "    for j in cluster:\n",
        "\n",
        "        p = {}\n",
        "        p.clear()\n",
        "        for i in G:\n",
        "              p[predlabel[i]]=0.0\n",
        "\n",
        "        for i in j:\n",
        "\n",
        "            if predlabel[i] == truelabel[i]:\n",
        "                p[predlabel[i]]+= 1.0\n",
        "\n",
        "\n",
        "        for i in p:\n",
        "            p[i]=p[i]/len(j)\n",
        "    \n",
        "        temp = 0.0\n",
        "        for i in p:\n",
        "            if p[i] != 0:\n",
        "                hyc -= p[i]*(math.log(p[i],2))\n",
        "\n",
        "    iyc = hy -hyc\n",
        "    print(\"hyc\\t:Entropy of class label within cluster\\t = \",hyc)\n",
        "    print(\"iyc\\t:Mutual Information\\t\\t\\t = \",iyc)\n",
        "    return print(\"\\nNMI  = \",(2*iyc)/(hy+hc))"
      ],
      "execution_count": null,
      "outputs": []
    },
    {
      "cell_type": "code",
      "metadata": {
        "id": "-Ct59i-FA1w_"
      },
      "source": [
        "NMI(G,truelabel,partition,cluster)"
      ],
      "execution_count": null,
      "outputs": []
    },
    {
      "cell_type": "code",
      "metadata": {
        "id": "_2vtOUAUA4oB"
      },
      "source": [
        "#ARI\n",
        "from sklearn.metrics.cluster import adjusted_rand_score\n",
        "def fun2(d):\n",
        "    ls = []\n",
        "    for key, val in d.items():\n",
        "        ls.append(val)\n",
        "    return ls\n",
        "y_true = [0, 0, 0, 0, 0, 0, 0, 0, 1, 1, 0, 0, 0, 0, 1, 1, 0, 0, 1, 0, 1, 0, 1, 1, 1, 1, 1, 1, 1, 1, 1, 1, 1, 1]\n",
        "\n",
        "y_pred = fun2(partition)\n",
        "#print(communities)\n",
        "#print(y_pred)\n",
        "#print(type(y_pred))\n",
        "\n",
        "ars_results = adjusted_rand_score(y_true, y_pred)\n",
        "\n",
        "print(\"ARI =\", ars_results)"
      ],
      "execution_count": null,
      "outputs": []
    },
    {
      "cell_type": "code",
      "metadata": {
        "id": "PJlw4w5mA7Gf"
      },
      "source": [
        "def intersection(lst1,lst2):\n",
        "    temp=set(lst2)\n",
        "    lst3=[value for value in lst1 if value in temp]\n",
        "    \n",
        "    return lst3\n"
      ],
      "execution_count": null,
      "outputs": []
    },
    {
      "cell_type": "code",
      "metadata": {
        "id": "8zVwNPUOA9i1"
      },
      "source": [
        "def internal_clustering_coefficient(G,cluster,v):\n",
        "    nodes=intersection(cluster,nx.neighbors(G,v))\n",
        "    nodes.append(v);\n",
        "    H=G.subgraph(nodes)\n",
        "    internal_CC=nx.clustering(H)\n",
        "    return internal_CC[v],len(nodes)-1"
      ],
      "execution_count": null,
      "outputs": []
    },
    {
      "cell_type": "code",
      "metadata": {
        "id": "alMZpHZqA_5_"
      },
      "source": [
        "C_in={}\n",
        "I={}\n",
        "for i in cluster:\n",
        "    for j in i:\n",
        "        C_in[j],I[j]=internal_clustering_coefficient(G,i,j)"
      ],
      "execution_count": null,
      "outputs": []
    },
    {
      "cell_type": "code",
      "metadata": {
        "id": "-u7TilzQBB8a"
      },
      "source": [
        "D=G.degree()"
      ],
      "execution_count": null,
      "outputs": []
    },
    {
      "cell_type": "code",
      "metadata": {
        "id": "opi_9ecYBD9K"
      },
      "source": [
        "def External_conn_max(G,cluster,v):\n",
        "    max=0\n",
        "    for i in cluster:\n",
        "        x=0\n",
        "        for j in i:\n",
        "            if(mat[[v],[j]]):\n",
        "                x=x+1\n",
        "        if(x>max):\n",
        "            max=x\n",
        "    return max"
      ],
      "execution_count": null,
      "outputs": []
    },
    {
      "cell_type": "code",
      "metadata": {
        "id": "AIA1r7YCBGGx"
      },
      "source": [
        "E_max={}\n",
        "for i in G:\n",
        "    E_max[i]=External_conn_max(G,cluster,i)"
      ],
      "execution_count": null,
      "outputs": []
    },
    {
      "cell_type": "code",
      "metadata": {
        "id": "pLepSgUqBIcI"
      },
      "source": [
        "#perm\n",
        "def permanence(I,E,D,c):\n",
        "    perm={}\n",
        "    for i in I:\n",
        "        perm[i]=(I[i]/E[i])*(1/D[i])-(1-c[i])\n",
        "    return perm"
      ],
      "execution_count": null,
      "outputs": []
    },
    {
      "cell_type": "code",
      "metadata": {
        "id": "yYwFvKjCBKRx"
      },
      "source": [
        "perm=permanence(I,E_max,D,C_in)"
      ],
      "execution_count": null,
      "outputs": []
    },
    {
      "cell_type": "code",
      "metadata": {
        "id": "uDFhq1eABMeQ"
      },
      "source": [
        "perm"
      ],
      "execution_count": null,
      "outputs": []
    },
    {
      "cell_type": "code",
      "metadata": {
        "id": "gb2ZKOR_BOb8"
      },
      "source": [
        ""
      ],
      "execution_count": null,
      "outputs": []
    },
    {
      "cell_type": "markdown",
      "metadata": {
        "id": "-nCnNMUgBfh6"
      },
      "source": [
        "# PERMANENCE FOR THE GIVEN INPUT"
      ]
    },
    {
      "cell_type": "code",
      "metadata": {
        "id": "NlJj_il3BRkh"
      },
      "source": [
        "G = nx.karate_club_graph()\n",
        "file = '15rw_t06.csv'\n",
        "nodes = []\n",
        "edge_list = []\n",
        "with open(file, 'r') as read_obj:\n",
        "    csv_reader = reader(read_obj)\n",
        "    count = 0                              ##If csv file has first row Source Destination use count to ignore it \n",
        "    for row in csv_reader:\n",
        "        if count != 0:\n",
        "            u, v = row\n",
        "            u = int(u) \n",
        "            v = int(v)\n",
        "            edge_list.append((int(u),int(v)))   ## or use     edge_list.append((int(u)-1,int(v)-1))\n",
        "        count += 1\n",
        "\n",
        "G.add_edges_from(edge_list)\n",
        "#Louvain Partition\n",
        "partition = community_louvain.best_partition(G)\n",
        "print(partition)\n",
        "# draw the graph\n",
        "pos = nx.spring_layout(G)\n",
        "\n",
        "# color the nodes according to their partition\n",
        "cmap = cm.get_cmap('viridis', max(partition.values()) + 1)\n",
        "nx.draw_networkx_nodes(G, pos, partition.keys(), node_size=40,\n",
        "                       cmap=cmap, node_color=list(partition.values()))\n",
        "# nx.draw_networkx_edges(G, pos, alpha=0.5)\n",
        "nx.draw(G)\n",
        "plt.show()"
      ],
      "execution_count": null,
      "outputs": []
    },
    {
      "cell_type": "code",
      "metadata": {
        "id": "5iDTHhhUBwJZ"
      },
      "source": [
        "#creating cluster Louvain\n",
        "cluster = [[],[],[],[]]\n",
        "for i in partition:\n",
        "    cluster[partition[i]].append(i)\n",
        "# Clusters and their nodes\n",
        "var = 1\n",
        "for i in cluster:\n",
        "    print(\"Cluter \",var,\"= \",i) \n",
        "    var+=1"
      ],
      "execution_count": null,
      "outputs": []
    },
    {
      "cell_type": "code",
      "metadata": {
        "id": "EGRfz49WB1Rw"
      },
      "source": [
        "#One given in the 15rw_comm_t06.txt file\n",
        "cluster = [[1, 2, 3, 4, 5, 6, 7, 8, 9],[10, 11, 12, 13],[14, 15, 16, 17, 18, 19, 20, 21, 22, 23, 24]]\n",
        "\n",
        "var = 1\n",
        "for i in cluster:\n",
        "    print(\"Cluster \",var,\"= \",i) \n",
        "    var+=1\n"
      ],
      "execution_count": null,
      "outputs": []
    },
    {
      "cell_type": "code",
      "metadata": {
        "id": "7XY1kTejB4cR"
      },
      "source": [
        "#Adjacency Matrix    \n",
        "mat = np.zeros(shape=(G.number_of_nodes(),G.number_of_nodes()))\n",
        "for i in range (0,G.number_of_nodes()):\n",
        "    for j in range (0,G.number_of_nodes()):\n",
        "        if(G.has_edge(i,j)):\n",
        "            mat[i][j]=1  "
      ],
      "execution_count": null,
      "outputs": []
    },
    {
      "cell_type": "code",
      "metadata": {
        "id": "J4-JHeogB-YN"
      },
      "source": [
        "def intersection(lst1,lst2):\n",
        "    temp=set(lst2)\n",
        "    lst3=[value for value in lst1 if value in temp]\n",
        "    \n",
        "    return lst3\n",
        "\n",
        "def internal_clustering_coefficient(G,cluster,v):\n",
        "    nodes=intersection(cluster,nx.neighbors(G,v))\n",
        "    nodes.append(v);\n",
        "    H=G.subgraph(nodes)\n",
        "    internal_CC=nx.clustering(H)\n",
        "    return internal_CC[v],len(nodes)-1\n",
        "C_in={}\n",
        "I={}\n",
        "for i in cluster:\n",
        "    for j in i:\n",
        "        C_in[j],I[j]=internal_clustering_coefficient(G,i,j)\n",
        "D=G.degree()\n",
        "#print(D)\n",
        "def External_conn_max(G,cluster,v):\n",
        "    max=0\n",
        "    for i in cluster:\n",
        "        x=0\n",
        "        for j in i:\n",
        "            if(mat[[v],[j]]==1):\n",
        "                x=x+1\n",
        "        if(x>max):\n",
        "            max=x\n",
        "    return max\n",
        "E_max={}\n",
        "for i in G:\n",
        "    E_max[i]=External_conn_max(G,cluster,i)\n",
        "    \n",
        "#perm\n",
        "def permanence(I,E,D,c):\n",
        "    perm={}\n",
        "    for i in I:\n",
        "        if(E_max[i]!=0):\n",
        "            perm[i]=((I[i]/E[i])*(1/D[i]))-(1-c[i])\n",
        "        elif(D[i]==0 and E_max[i]==0):\n",
        "            perm[i]=0;\n",
        "        else:\n",
        "            perm[i]=1\n",
        "    return perm\n"
      ],
      "execution_count": null,
      "outputs": []
    },
    {
      "cell_type": "code",
      "metadata": {
        "id": "ulCh-WzwCCh4"
      },
      "source": [
        "perm=permanence(I,E_max,D,C_in)\n",
        "perm=collections.OrderedDict(sorted(perm.items()))\n",
        "\n",
        "perm_sum= sum(perm.values())\n",
        "perm_avg= perm_sum/len(perm)\n",
        "print(\"Average Permanance: \"+str(perm_avg), \"\\n\")\n",
        "print(\"Permanence of Nodes\")\n",
        "for i in perm:\n",
        "    print (\"Node \", i , \" \", perm[i])\n",
        "plt.bar(perm.keys(), perm.values(), width=.8, color='g', animated=\"True\")"
      ],
      "execution_count": null,
      "outputs": []
    },
    {
      "cell_type": "code",
      "metadata": {
        "id": "1bMM8t74CFcp"
      },
      "source": [
        ""
      ],
      "execution_count": null,
      "outputs": []
    }
  ]
}